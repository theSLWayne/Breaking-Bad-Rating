{
 "cells": [
  {
   "cell_type": "code",
   "execution_count": null,
   "metadata": {},
   "outputs": [],
   "source": []
  },
  {
   "cell_type": "code",
   "execution_count": 5,
   "metadata": {},
   "outputs": [],
   "source": [
    "from imdb import IMDb\n",
    "import pandas as pd\n",
    "import numpy as np\n",
    "import matplotlib.pyplot as plt"
   ]
  },
  {
   "cell_type": "code",
   "execution_count": 6,
   "metadata": {},
   "outputs": [],
   "source": [
    "ia = IMDb()\n",
    "\n",
    "# Searchig for the show in the IMDb database\n",
    "breakingBad = ia.search_movie(\"Breaking Bad\")"
   ]
  },
  {
   "cell_type": "code",
   "execution_count": 7,
   "metadata": {},
   "outputs": [],
   "source": [
    "# ID of the show\n",
    "code = breakingBad[0].movieID\n",
    "\n",
    "# Get all episodes of the show\n",
    "breaking_bad = ia.get_movie_episodes(code)"
   ]
  },
  {
   "cell_type": "code",
   "execution_count": 8,
   "metadata": {},
   "outputs": [],
   "source": [
    "# Breaking Bad - Number of seasons\n",
    "num_seasons = len(breaking_bad['data']['episodes'])\n",
    "ratings = []\n",
    "\n",
    "# Getting IMDb ratings of each episode of the show\n",
    "for season in range(1, num_seasons + 1):\n",
    "    # Episodes in a single season\n",
    "    num_episodes = len(breaking_bad['data']['episodes'][season])\n",
    "    curr_ratings = []\n",
    "    # Getting IMDb ratings of each episode of a certain season\n",
    "    for episode in range(1, num_episodes + 1):\n",
    "        curr_code = breaking_bad['data']['episodes'][season][episode].movieID\n",
    "        curr_episode = ia.get_movie(curr_code)\n",
    "        curr_ratings.append(curr_episode.data['rating'])\n",
    "    ratings.append(curr_ratings)"
   ]
  },
  {
   "cell_type": "code",
   "execution_count": 10,
   "metadata": {},
   "outputs": [
    {
     "data": {
      "text/html": [
       "<div>\n",
       "<style scoped>\n",
       "    .dataframe tbody tr th:only-of-type {\n",
       "        vertical-align: middle;\n",
       "    }\n",
       "\n",
       "    .dataframe tbody tr th {\n",
       "        vertical-align: top;\n",
       "    }\n",
       "\n",
       "    .dataframe thead th {\n",
       "        text-align: right;\n",
       "    }\n",
       "</style>\n",
       "<table border=\"1\" class=\"dataframe\">\n",
       "  <thead>\n",
       "    <tr style=\"text-align: right;\">\n",
       "      <th></th>\n",
       "      <th>Season 1</th>\n",
       "      <th>Season 2</th>\n",
       "      <th>Season 3</th>\n",
       "      <th>Season 4</th>\n",
       "      <th>Season 5</th>\n",
       "    </tr>\n",
       "    <tr>\n",
       "      <th>Episode</th>\n",
       "      <th></th>\n",
       "      <th></th>\n",
       "      <th></th>\n",
       "      <th></th>\n",
       "      <th></th>\n",
       "    </tr>\n",
       "  </thead>\n",
       "  <tbody>\n",
       "    <tr>\n",
       "      <th>1</th>\n",
       "      <td>9.0</td>\n",
       "      <td>8.7</td>\n",
       "      <td>8.6</td>\n",
       "      <td>9.2</td>\n",
       "      <td>9.3</td>\n",
       "    </tr>\n",
       "    <tr>\n",
       "      <th>2</th>\n",
       "      <td>8.7</td>\n",
       "      <td>9.3</td>\n",
       "      <td>8.7</td>\n",
       "      <td>8.3</td>\n",
       "      <td>8.9</td>\n",
       "    </tr>\n",
       "    <tr>\n",
       "      <th>3</th>\n",
       "      <td>8.8</td>\n",
       "      <td>8.4</td>\n",
       "      <td>8.5</td>\n",
       "      <td>8.1</td>\n",
       "      <td>8.9</td>\n",
       "    </tr>\n",
       "    <tr>\n",
       "      <th>4</th>\n",
       "      <td>8.3</td>\n",
       "      <td>8.3</td>\n",
       "      <td>8.3</td>\n",
       "      <td>8.7</td>\n",
       "      <td>8.9</td>\n",
       "    </tr>\n",
       "    <tr>\n",
       "      <th>5</th>\n",
       "      <td>8.4</td>\n",
       "      <td>8.4</td>\n",
       "      <td>8.7</td>\n",
       "      <td>8.7</td>\n",
       "      <td>9.7</td>\n",
       "    </tr>\n",
       "    <tr>\n",
       "      <th>6</th>\n",
       "      <td>9.3</td>\n",
       "      <td>8.9</td>\n",
       "      <td>9.3</td>\n",
       "      <td>8.5</td>\n",
       "      <td>9.1</td>\n",
       "    </tr>\n",
       "    <tr>\n",
       "      <th>7</th>\n",
       "      <td>8.9</td>\n",
       "      <td>8.7</td>\n",
       "      <td>9.6</td>\n",
       "      <td>8.9</td>\n",
       "      <td>9.6</td>\n",
       "    </tr>\n",
       "    <tr>\n",
       "      <th>8</th>\n",
       "      <td>NaN</td>\n",
       "      <td>9.2</td>\n",
       "      <td>8.8</td>\n",
       "      <td>9.3</td>\n",
       "      <td>9.6</td>\n",
       "    </tr>\n",
       "    <tr>\n",
       "      <th>9</th>\n",
       "      <td>NaN</td>\n",
       "      <td>9.2</td>\n",
       "      <td>8.5</td>\n",
       "      <td>8.9</td>\n",
       "      <td>9.5</td>\n",
       "    </tr>\n",
       "    <tr>\n",
       "      <th>10</th>\n",
       "      <td>NaN</td>\n",
       "      <td>8.6</td>\n",
       "      <td>7.8</td>\n",
       "      <td>9.6</td>\n",
       "      <td>9.2</td>\n",
       "    </tr>\n",
       "    <tr>\n",
       "      <th>11</th>\n",
       "      <td>NaN</td>\n",
       "      <td>8.9</td>\n",
       "      <td>8.5</td>\n",
       "      <td>9.7</td>\n",
       "      <td>9.6</td>\n",
       "    </tr>\n",
       "    <tr>\n",
       "      <th>12</th>\n",
       "      <td>NaN</td>\n",
       "      <td>9.3</td>\n",
       "      <td>9.5</td>\n",
       "      <td>9.5</td>\n",
       "      <td>9.2</td>\n",
       "    </tr>\n",
       "    <tr>\n",
       "      <th>13</th>\n",
       "      <td>NaN</td>\n",
       "      <td>9.3</td>\n",
       "      <td>9.7</td>\n",
       "      <td>9.9</td>\n",
       "      <td>9.8</td>\n",
       "    </tr>\n",
       "    <tr>\n",
       "      <th>14</th>\n",
       "      <td>NaN</td>\n",
       "      <td>NaN</td>\n",
       "      <td>NaN</td>\n",
       "      <td>NaN</td>\n",
       "      <td>10.0</td>\n",
       "    </tr>\n",
       "    <tr>\n",
       "      <th>15</th>\n",
       "      <td>NaN</td>\n",
       "      <td>NaN</td>\n",
       "      <td>NaN</td>\n",
       "      <td>NaN</td>\n",
       "      <td>9.7</td>\n",
       "    </tr>\n",
       "    <tr>\n",
       "      <th>16</th>\n",
       "      <td>NaN</td>\n",
       "      <td>NaN</td>\n",
       "      <td>NaN</td>\n",
       "      <td>NaN</td>\n",
       "      <td>9.9</td>\n",
       "    </tr>\n",
       "  </tbody>\n",
       "</table>\n",
       "</div>"
      ],
      "text/plain": [
       "         Season 1  Season 2  Season 3  Season 4  Season 5\n",
       "Episode                                                  \n",
       "1             9.0       8.7       8.6       9.2       9.3\n",
       "2             8.7       9.3       8.7       8.3       8.9\n",
       "3             8.8       8.4       8.5       8.1       8.9\n",
       "4             8.3       8.3       8.3       8.7       8.9\n",
       "5             8.4       8.4       8.7       8.7       9.7\n",
       "6             9.3       8.9       9.3       8.5       9.1\n",
       "7             8.9       8.7       9.6       8.9       9.6\n",
       "8             NaN       9.2       8.8       9.3       9.6\n",
       "9             NaN       9.2       8.5       8.9       9.5\n",
       "10            NaN       8.6       7.8       9.6       9.2\n",
       "11            NaN       8.9       8.5       9.7       9.6\n",
       "12            NaN       9.3       9.5       9.5       9.2\n",
       "13            NaN       9.3       9.7       9.9       9.8\n",
       "14            NaN       NaN       NaN       NaN      10.0\n",
       "15            NaN       NaN       NaN       NaN       9.7\n",
       "16            NaN       NaN       NaN       NaN       9.9"
      ]
     },
     "execution_count": 10,
     "metadata": {},
     "output_type": "execute_result"
    }
   ],
   "source": [
    "# Converting the rating list into a pandas dataframe so that it can be seen properly\n",
    "df = pd.DataFrame(ratings)\n",
    "# Transposing the dataframe\n",
    "df = df.transpose()\n",
    "# Setting column names for the dataframe\n",
    "df.columns = [\"Season 1\", \"Season 2\", \"Season 3\", \"Season 4\", \"Season 5\"]\n",
    "# Create new column for episode number\n",
    "df['Episode'] = range(1, 17)\n",
    "df = df.set_index('Episode')\n",
    "df"
   ]
  },
  {
   "cell_type": "code",
   "execution_count": 11,
   "metadata": {},
   "outputs": [
    {
     "data": {
      "text/plain": [
       "array([list([9.0, 8.7, 8.8, 8.3, 8.4, 9.3, 8.9]),\n",
       "       list([8.7, 9.3, 8.4, 8.3, 8.4, 8.9, 8.7, 9.2, 9.2, 8.6, 8.9, 9.3, 9.3]),\n",
       "       list([8.6, 8.7, 8.5, 8.3, 8.7, 9.3, 9.6, 8.8, 8.5, 7.8, 8.5, 9.5, 9.7]),\n",
       "       list([9.2, 8.3, 8.1, 8.7, 8.7, 8.5, 8.9, 9.3, 8.9, 9.6, 9.7, 9.5, 9.9]),\n",
       "       list([9.3, 8.9, 8.9, 8.9, 9.7, 9.1, 9.6, 9.6, 9.5, 9.2, 9.6, 9.2, 9.8, 10.0, 9.7, 9.9])],\n",
       "      dtype=object)"
      ]
     },
     "execution_count": 11,
     "metadata": {},
     "output_type": "execute_result"
    }
   ],
   "source": []
  },
  {
   "cell_type": "code",
   "execution_count": 55,
   "metadata": {},
   "outputs": [],
   "source": [
    "'''\n",
    "Function to draw the heatmap\n",
    "\n",
    "Parameters:\n",
    "-----------\n",
    "data\n",
    "    A 2D Numpy array of size(N, M).\n",
    "    \n",
    "row_labels\n",
    "    An array of labels of length N containing row labels.\n",
    "    \n",
    "col_labels\n",
    "    An array of labels of length M containing column labels.\n",
    "    \n",
    "ax\n",
    "    A `matplotlib.axes.Axes` instance to which the heatmap is plotted.\n",
    "        \n",
    "cbar_kw\n",
    "    A dictionary with arguments to `matplotlib.Figure.colorbar`.  Optional.\n",
    "    \n",
    "cbar_label\n",
    "    The label for the colorbar.  Optional.\n",
    "'''\n",
    "def heatmap(data, row_labels, col_labels, ax, cbar_kw = {}, cbar_label = \"\", **kwargs):\n",
    "        \n",
    "    # Plot the heatmap\n",
    "    im = ax.imshow(data, **kwargs)\n",
    "    \n",
    "    # Create Colorbar\n",
    "    cbar = ax.figure.colorbar(im, ax=ax, **cbar_kw)\n",
    "    cbar.ax.set_ylabel(cbar_label, rotation=-90, va=\"bottom\")\n",
    "    \n",
    "    # Show ticks\n",
    "    ax.set_xticks(np.arange(data.shape[1]))\n",
    "    ax.set_yticks(np.arange(data.shape[0]))\n",
    "    \n",
    "    ax.tick_params(axis=u'both', which=u'both',length=0)\n",
    "    \n",
    "    # Set tick labels\n",
    "    ax.set_xticklabels(col_labels)\n",
    "    ax.set_yticklabels(row_labels)\n",
    "    \n",
    "    # Let the horizontal axes labeling appear on top.\n",
    "    ax.tick_params(top=True, bottom=False,\n",
    "                   labeltop=True, labelbottom=False)\n",
    "    \n",
    "    # Turn spines off and create white grid.\n",
    "    for edge, spine in ax.spines.items():\n",
    "        spine.set_visible(False)\n",
    "\n",
    "    ax.set_xticks(np.arange(data.shape[1]+1)-.5, minor=True)\n",
    "    ax.set_yticks(np.arange(data.shape[0]+1)-.5, minor=True)\n",
    "    ax.grid(which=\"minor\", color=\"w\", linestyle='-', linewidth=3)\n",
    "    ax.tick_params(which=\"minor\", bottom=False, left=False)\n",
    "\n",
    "    return im, cbar"
   ]
  },
  {
   "cell_type": "code",
   "execution_count": 18,
   "metadata": {},
   "outputs": [
    {
     "ename": "AttributeError",
     "evalue": "'list' object has no attribute 'shape'",
     "output_type": "error",
     "traceback": [
      "\u001b[0;31m---------------------------------------------------------------------------\u001b[0m",
      "\u001b[0;31mAttributeError\u001b[0m                            Traceback (most recent call last)",
      "\u001b[0;32m<ipython-input-18-1d84a69e9782>\u001b[0m in \u001b[0;36m<module>\u001b[0;34m\u001b[0m\n\u001b[0;32m----> 1\u001b[0;31m \u001b[0mdata\u001b[0m\u001b[0;34m[\u001b[0m\u001b[0;36m0\u001b[0m\u001b[0;34m]\u001b[0m\u001b[0;34m.\u001b[0m\u001b[0mshape\u001b[0m\u001b[0;34m\u001b[0m\u001b[0;34m\u001b[0m\u001b[0m\n\u001b[0m",
      "\u001b[0;31mAttributeError\u001b[0m: 'list' object has no attribute 'shape'"
     ]
    }
   ],
   "source": [
    "'''\n",
    "Function to anotate the heatmap\n",
    "\n",
    "Parameters:\n",
    "-----------\n",
    "im\n",
    "    The AxesImage to be labeled.\n",
    "data\n",
    "    Data used to annotate.\n",
    "valfmt\n",
    "    The format of the annotations inside the heatmap.\n",
    "'''\n",
    "'''\n",
    "def annotate_heatmap(im, data, valfmt):\n",
    "    \n",
    "    threshold = \n",
    "'''"
   ]
  },
  {
   "cell_type": "code",
   "execution_count": 57,
   "metadata": {},
   "outputs": [
    {
     "data": {
      "image/png": "[encoded data removed]",
      "text/plain": [
       "<Figure size 432x288 with 2 Axes>"
      ]
     },
     "metadata": {
      "needs_background": "light"
     },
     "output_type": "display_data"
    }
   ],
   "source": [
    "harvest = np.array([[9.0, 8.7, 8.8, 8.3, 8.4, 9.3, 8.9, 0, 0, 0, 0, 0, 0],\n",
    "                    [8.7, 9.3, 8.4, 8.3, 8.4, 8.9, 8.7, 9.2, 9.2, 8.6, 8.9, 9.3, 9.3]])\n",
    "\n",
    "fig, ax = plt.subplots()\n",
    "im, cbar = heatmap(df, range(1,17), range(1,6), ax=ax, cmap=\"YlGn\", cbar_label=\"IMDb Episode Rating\")\n",
    "\n",
    "fig.tight_layout()\n",
    "plt.show()"
   ]
  },
  {
   "cell_type": "code",
   "execution_count": 44,
   "metadata": {},
   "outputs": [
    {
     "data": {
      "text/plain": [
       "(16, 5)"
      ]
     },
     "execution_count": 44,
     "metadata": {},
     "output_type": "execute_result"
    }
   ],
   "source": [
    "df.shape"
   ]
  },
  {
   "cell_type": "code",
   "execution_count": null,
   "metadata": {},
   "outputs": [],
   "source": []
  }
 ],
 "metadata": {
  "kernelspec": {
   "display_name": "Python 3",
   "language": "python",
   "name": "python3"
  },
  "language_info": {
   "codemirror_mode": {
    "name": "ipython",
    "version": 3
   },
   "file_extension": ".py",
   "mimetype": "text/x-python",
   "name": "python",
   "nbconvert_exporter": "python",
   "pygments_lexer": "ipython3",
   "version": "3.7.3"
  }
 },
 "nbformat": 4,
 "nbformat_minor": 2
}
